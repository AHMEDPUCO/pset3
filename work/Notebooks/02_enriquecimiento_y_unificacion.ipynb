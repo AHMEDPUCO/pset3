{
 "cells": [
  {
   "cell_type": "markdown",
   "id": "7b2a73fd",
   "metadata": {},
   "source": [
    "# Notebook 02  Enriquecimiento y Unificación \n",
    "\n",
    "Versión corregida para fijar `USE DATABASE` y `USE SCHEMA` en cada conexión, calificar objetos con esquema y usar `write_pandas(..., schema=...)`."
   ]
  },
  {
   "cell_type": "markdown",
   "id": "6a356033",
   "metadata": {},
   "source": [
    "## 1) Parámetros y conexión"
   ]
  },
  {
   "cell_type": "code",
   "execution_count": 44,
   "id": "436572c4",
   "metadata": {},
   "outputs": [
    {
     "name": "stdout",
     "output_type": "stream",
     "text": [
      "Conectar a: HGPAYPL-TF36096 SPARK_DATA | Schemas: SPARK_DATA.RAW → SPARK_DATA.analytics\n"
     ]
    }
   ],
   "source": [
    "import os, datetime\n",
    "import pandas as pd\n",
    "import requests\n",
    "import snowflake.connector as sf\n",
    "from snowflake.connector.pandas_tools import write_pandas\n",
    "\n",
    "# === Variables de entorno ===\n",
    "SF_ACCOUNT   = os.getenv('SNOWFLAKE_ACCOUNT')\n",
    "SF_USER      = os.getenv('SNOWFLAKE_USER')\n",
    "SF_PASSWORD  = os.getenv('SNOWFLAKE_PASSWORD')\n",
    "SF_ROLE      = os.getenv('SNOWFLAKE_ROLE', 'SYSADMIN')\n",
    "SF_WAREHOUSE = os.getenv('SNOWFLAKE_WAREHOUSE')\n",
    "SF_DATABASE  = os.getenv('SNOWFLAKE_DATABASE')\n",
    "SCHEMA_RAW   = os.getenv('SNOWFLAKE_SCHEMA_RAW', 'RAW')\n",
    "SCHEMA_AN    =  os.getenv('SNOWFLAKE_SCHEMA_ANALYTICS','analytics')\n",
    "\n",
    "# Tablas\n",
    "YELLOW_TABLE = os.getenv('RAW_YELLOW_TABLE', 'RAW_TLC_TRIPS_yellow')\n",
    "GREEN_TABLE  = os.getenv('RAW_GREEN_TABLE',  'RAW_TLC_TRIPS_green')\n",
    "ZONES_TABLE  = os.getenv('RAW_TAXI_ZONES_TABLE', 'TAXI_ZONE_LOOKUP_RAW')\n",
    "DEST_TABLE   = os.getenv('AN_ENRICHED_TABLE', 'TRIPS_ENRICHED_UNIFIED')\n",
    "\n",
    "# Fuente del Taxi Zone Lookup\n",
    "TAXI_ZONE_URL = os.getenv('TAXI_ZONE_URL', \"https://d37ci6vzurychx.cloudfront.net/misc/taxi+_zone_lookup.csv\")\n",
    "LOCAL_FALLBACK = os.getenv('TAXI_ZONE_LOCAL_PATH', None)\n",
    "\n",
    "RUN_ID = os.getenv('RUN_ID') or f\"nb02_{datetime.datetime.utcnow().strftime('%Y%m%dT%H%M%SZ')}\"\n",
    "\n",
    "assert SF_ACCOUNT and SF_USER and SF_PASSWORD and SF_WAREHOUSE and SF_DATABASE, 'Faltan variables de conexión a Snowflake'\n",
    "print('Conectar a:', SF_ACCOUNT, SF_DATABASE, '| Schemas:', SCHEMA_RAW, '→', SCHEMA_AN)"
   ]
  },
  {
   "cell_type": "markdown",
   "id": "648db4ef",
   "metadata": {},
   "source": [
    "### Helper de conexión/SQL"
   ]
  },
  {
   "cell_type": "code",
   "execution_count": 45,
   "id": "5ef26e36",
   "metadata": {},
   "outputs": [
    {
     "name": "stdout",
     "output_type": "stream",
     "text": [
      "✓ Helpers listos\n"
     ]
    }
   ],
   "source": [
    "def snowflake_conn(schema: str | None = None):\n",
    "    ctx = sf.connect(\n",
    "        account=SF_ACCOUNT,\n",
    "        user=SF_USER,\n",
    "        password=SF_PASSWORD,\n",
    "        warehouse=SF_WAREHOUSE,\n",
    "        role=SF_ROLE,\n",
    "        database=SF_DATABASE,\n",
    "        schema=schema or SCHEMA_RAW,\n",
    "        client_session_keep_alive=True,\n",
    "    )\n",
    "    c = ctx.cursor()\n",
    "    try:\n",
    "        c.execute(f\"USE DATABASE {SF_DATABASE}\")\n",
    "        c.execute(f\"USE SCHEMA {schema or SCHEMA_RAW}\")\n",
    "    finally:\n",
    "        c.close()\n",
    "    return ctx\n",
    "\n",
    "def run_sql(sql: str, schema: str | None = None):\n",
    "    with snowflake_conn(schema or SCHEMA_RAW) as conn:\n",
    "        cur = conn.cursor()\n",
    "        try:\n",
    "            cur.execute(f\"USE DATABASE {SF_DATABASE}\")\n",
    "            cur.execute(f\"USE SCHEMA {schema or SCHEMA_RAW}\")\n",
    "            res = cur.execute(sql)\n",
    "            try:\n",
    "                return res.fetchall()\n",
    "            except Exception:\n",
    "                return []\n",
    "        finally:\n",
    "            cur.close()\n",
    "print('✓ Helpers listos')"
   ]
  },
  {
   "cell_type": "markdown",
   "id": "c271ccce",
   "metadata": {},
   "source": [
    "## 2) Bootstrap + auditoría"
   ]
  },
  {
   "cell_type": "code",
   "execution_count": 46,
   "id": "273e1013",
   "metadata": {},
   "outputs": [
    {
     "name": "stdout",
     "output_type": "stream",
     "text": [
      "✓ Esquemas y auditoría listos\n"
     ]
    }
   ],
   "source": [
    "with snowflake_conn(SCHEMA_RAW) as conn:\n",
    "    cur = conn.cursor()\n",
    "    try:\n",
    "        cur.execute(f\"USE WAREHOUSE {SF_WAREHOUSE}\")\n",
    "        cur.execute(f\"USE DATABASE {SF_DATABASE}\")\n",
    "        cur.execute(f\"CREATE SCHEMA IF NOT EXISTS {SCHEMA_RAW}\")\n",
    "        cur.execute(f\"CREATE SCHEMA IF NOT EXISTS {SCHEMA_AN}\")\n",
    "        cur.execute(f\"\"\"\n",
    "        CREATE TABLE IF NOT EXISTS {SCHEMA_AN}.LOAD_AUDIT (\n",
    "          load_ts_utc      TIMESTAMP_NTZ,\n",
    "          run_id           STRING,\n",
    "          step             STRING,\n",
    "          rows_affected    NUMBER,\n",
    "          details          STRING\n",
    "        )\n",
    "        \"\"\")\n",
    "    finally:\n",
    "        cur.close()\n",
    "print('✓ Esquemas y auditoría listos')"
   ]
  },
  {
   "cell_type": "markdown",
   "id": "bf1caf53",
   "metadata": {},
   "source": [
    "## 3) Taxi Zone Lookup → RAW"
   ]
  },
  {
   "cell_type": "code",
   "execution_count": 48,
   "id": "7ed9b5f5",
   "metadata": {},
   "outputs": [
    {
     "name": "stdout",
     "output_type": "stream",
     "text": [
      "✓ Taxi Zone cargado: SPARK_DATA.RAW.TAXI_ZONE_LOOKUP_RAW | Filas: 265\n"
     ]
    }
   ],
   "source": [
    "import io\n",
    "if LOCAL_FALLBACK and os.path.exists(LOCAL_FALLBACK):\n",
    "    df_zones = pd.read_csv(LOCAL_FALLBACK)\n",
    "else:\n",
    "    r = requests.get(TAXI_ZONE_URL, timeout=30)\n",
    "    r.raise_for_status()\n",
    "    df_zones = pd.read_csv(io.StringIO(r.text))\n",
    "\n",
    "df_zones.columns = [c.strip().upper() for c in df_zones.columns]\n",
    "expected = ['LOCATIONID','BOROUGH','ZONE','SERVICE_ZONE']\n",
    "for c in expected:\n",
    "    if c not in df_zones.columns:\n",
    "        df_zones[c] = None\n",
    "df_zones = df_zones[expected]\n",
    "\n",
    "with snowflake_conn(SCHEMA_RAW) as conn:\n",
    "    cur = conn.cursor()\n",
    "    try:\n",
    "        cur.execute(f\"\"\"\n",
    "        CREATE OR REPLACE TABLE {ZONES_TABLE} (\n",
    "          LOCATIONID NUMBER,\n",
    "          BOROUGH STRING,\n",
    "          ZONE STRING,\n",
    "          SERVICE_ZONE STRING\n",
    "        )\n",
    "        \"\"\")\n",
    "        write_pandas(conn, df_zones, ZONES_TABLE, auto_create_table=False)\n",
    "    finally:\n",
    "        cur.close()\n",
    "\n",
    "run_sql(\n",
    "    f\"\"\"\n",
    "    INSERT INTO {SCHEMA_AN}.LOAD_AUDIT(load_ts_utc, run_id, step, rows_affected, details)\n",
    "    SELECT CURRENT_TIMESTAMP(), '{RUN_ID}', 'LOAD_TAXI_ZONE', COUNT(*), '{SCHEMA_RAW}.{ZONES_TABLE}' FROM {SCHEMA_RAW}.{ZONES_TABLE}\n",
    "    \"\"\",\n",
    "    schema=SCHEMA_AN\n",
    ")\n",
    "print('✓ Taxi Zone cargado:', f'{SCHEMA_RAW}.{ZONES_TABLE}', '| Filas:', len(df_zones))"
   ]
  },
  {
   "cell_type": "markdown",
   "id": "66ef4e25",
   "metadata": {},
   "source": [
    "## 5) Enriquecimiento + Unificación → ANALYTICS"
   ]
  },
  {
   "cell_type": "code",
   "execution_count": 53,
   "id": "14c6fd36",
   "metadata": {},
   "outputs": [
    {
     "name": "stdout",
     "output_type": "stream",
     "text": [
      "✓ Enriquecimiento/unificación OK. Filas destino: 818500455\n",
      "   (airport_fee y e_hail_fee gestionadas dinámicamente; service_zone incluido)\n"
     ]
    }
   ],
   "source": [
    "# Helpers para chequear si existe una columna en una tabla\n",
    "def column_exists(schema: str, table: str, column: str) -> bool:\n",
    "    q = f\"\"\"\n",
    "    SELECT COUNT(*) FROM {SF_DATABASE}.INFORMATION_SCHEMA.COLUMNS\n",
    "    WHERE TABLE_SCHEMA = %s AND TABLE_NAME = %s AND UPPER(COLUMN_NAME) = UPPER(%s)\n",
    "    \"\"\"\n",
    "    with snowflake_conn(schema) as conn:\n",
    "        cur = conn.cursor()\n",
    "        try:\n",
    "            # En algunos entornos schema puede venir como \"DB.SCHEMA\"; tomamos la última parte\n",
    "            schema_name = schema.split('.')[-1] if '.' in schema else schema\n",
    "            cur.execute(q, (schema_name, table, column))\n",
    "            return cur.fetchone()[0] > 0\n",
    "        finally:\n",
    "            cur.close()\n",
    "\n",
    "# Detectar columnas opcionales en RAW\n",
    "has_airport_fee_y = column_exists(SCHEMA_RAW, YELLOW_TABLE, 'AIRPORT_FEE')\n",
    "has_ehail_fee_y   = column_exists(SCHEMA_RAW, YELLOW_TABLE, 'EHAIL_FEE')\n",
    "\n",
    "has_airport_fee_g = column_exists(SCHEMA_RAW, GREEN_TABLE,  'AIRPORT_FEE')\n",
    "has_ehail_fee_g   = column_exists(SCHEMA_RAW, GREEN_TABLE,  'EHAIL_FEE')\n",
    "\n",
    "# Expresiones según disponibilidad\n",
    "Y_AIRPORT_EXPR = \"t.AIRPORT_FEE::FLOAT AS airport_fee\" if has_airport_fee_y else \"NULL::FLOAT AS airport_fee\"\n",
    "Y_EHAIL_EXPR   = \"t.EHAIL_FEE::FLOAT  AS e_hail_fee\"   if has_ehail_fee_y   else \"NULL::FLOAT AS e_hail_fee\"\n",
    "\n",
    "G_AIRPORT_EXPR = \"t.AIRPORT_FEE::FLOAT AS airport_fee\" if has_airport_fee_g else \"NULL::FLOAT AS airport_fee\"\n",
    "G_EHAIL_EXPR   = \"t.EHAIL_FEE::FLOAT  AS e_hail_fee\"   if has_ehail_fee_g   else \"NULL::FLOAT AS e_hail_fee\"\n",
    "\n",
    "sql_create = f\"\"\"\n",
    "CREATE OR REPLACE TABLE {SCHEMA_AN}.{DEST_TABLE} AS\n",
    "WITH payment_map AS (\n",
    "  SELECT * FROM VALUES\n",
    "    (0,'Unknown'),(1,'Credit Card'),(2,'Cash'),\n",
    "    (3,'No Charge'),(4,'Dispute'),(5,'Unknown'),(6,'Voided Trip')\n",
    "  AS T(payment_type, payment_type_desc)\n",
    "),\n",
    "ratecode_map AS (\n",
    "  SELECT * FROM VALUES\n",
    "    (1,'Standard rate'),(2,'JFK'),(3,'Newark'),\n",
    "    (4,'Nassau or Westchester'),(5,'Negotiated fare'),(6,'Group ride')\n",
    "  AS T(ratecodeid, rate_code_desc)\n",
    "),\n",
    "vendor_map AS (\n",
    "  SELECT * FROM VALUES\n",
    "    (1,'Creative Mobile Technologies'),(2,'VeriFone Inc.')\n",
    "  AS T(vendorid, vendor_name)\n",
    "),\n",
    "zones AS (\n",
    "  SELECT\n",
    "    LOCATIONID::NUMBER AS locationid,\n",
    "    ZONE::STRING       AS zone,\n",
    "    BOROUGH::STRING    AS borough,\n",
    "    SERVICE_ZONE::STRING AS service_zone\n",
    "  FROM {SCHEMA_RAW}.{ZONES_TABLE}\n",
    "),\n",
    "yellow_base AS (\n",
    "  SELECT\n",
    "    'yellow'::STRING AS service_type,\n",
    "    t.vendorid,\n",
    "    t.PICKUP_DATETIME::TIMESTAMP_NTZ  AS pickup_datetime,\n",
    "    t.DROPOFF_DATETIME::TIMESTAMP_NTZ AS dropoff_datetime,\n",
    "    t.pulocationid, t.dolocationid,\n",
    "    t.passenger_count, t.trip_distance, t.ratecodeid,\n",
    "    t.store_and_fwd_flag, t.payment_type,\n",
    "    t.fare_amount, t.extra, t.mta_tax, t.tip_amount, t.tolls_amount,\n",
    "    t.improvement_surcharge, t.congestion_surcharge, t.total_amount,\n",
    "    NULL::NUMBER AS trip_type,\n",
    "    {Y_AIRPORT_EXPR},\n",
    "    {Y_EHAIL_EXPR},\n",
    "    t.run_id, t.source_year, t.source_month, t.ingested_at_utc, t.source_path\n",
    "  FROM {SCHEMA_RAW}.{YELLOW_TABLE} t\n",
    "  WHERE\n",
    "    t.PICKUP_DATETIME IS NOT NULL\n",
    "    AND t.DROPOFF_DATETIME IS NOT NULL\n",
    "    AND t.trip_distance >= 0\n",
    "    AND t.total_amount IS NOT NULL\n",
    "),\n",
    "green_base AS (\n",
    "  SELECT\n",
    "    'green'::STRING AS service_type,\n",
    "    t.vendorid,\n",
    "    t.PICKUP_DATETIME::TIMESTAMP_NTZ  AS pickup_datetime,\n",
    "    t.DROPOFF_DATETIME::TIMESTAMP_NTZ AS dropoff_datetime,\n",
    "    t.pulocationid, t.dolocationid,\n",
    "    t.passenger_count, t.trip_distance, t.ratecodeid,\n",
    "    t.store_and_fwd_flag, t.payment_type,\n",
    "    t.fare_amount, t.extra, t.mta_tax, t.tip_amount, t.tolls_amount,\n",
    "    t.improvement_surcharge, t.congestion_surcharge, t.total_amount,\n",
    "    t.trip_type,\n",
    "    {G_AIRPORT_EXPR},\n",
    "    {G_EHAIL_EXPR},\n",
    "    t.run_id, t.source_year, t.source_month, t.ingested_at_utc, t.source_path\n",
    "  FROM {SCHEMA_RAW}.{GREEN_TABLE} t\n",
    "  WHERE\n",
    "    t.PICKUP_DATETIME IS NOT NULL\n",
    "    AND t.DROPOFF_DATETIME IS NOT NULL\n",
    "    AND t.trip_distance >= 0\n",
    "    AND t.total_amount IS NOT NULL\n",
    "),\n",
    "unified AS (\n",
    "  SELECT * FROM yellow_base\n",
    "  UNION ALL\n",
    "  SELECT * FROM green_base\n",
    ")\n",
    "SELECT\n",
    "  b.service_type, b.vendorid, vm.vendor_name,\n",
    "  b.pickup_datetime, b.dropoff_datetime,\n",
    "  b.pulocationid,\n",
    "  pz.zone AS pu_zone, pz.borough AS pu_borough, pz.service_zone AS pu_service_zone,\n",
    "  b.dolocationid,\n",
    "  dz.zone AS do_zone, dz.borough AS do_borough, dz.service_zone AS do_service_zone,\n",
    "  b.passenger_count, b.trip_distance, b.ratecodeid, rm.rate_code_desc,\n",
    "  b.store_and_fwd_flag, b.payment_type, pm.payment_type_desc,\n",
    "  b.fare_amount, b.extra, b.mta_tax, b.tip_amount, b.tolls_amount,\n",
    "  b.improvement_surcharge, b.congestion_surcharge, b.total_amount,\n",
    "  b.airport_fee, b.e_hail_fee,\n",
    "  b.trip_type,\n",
    "  b.run_id, b.source_year, b.source_month, b.ingested_at_utc, b.source_path,\n",
    "  '{RUN_ID}'::STRING AS nb02_run_id,\n",
    "  CURRENT_TIMESTAMP()::TIMESTAMP_NTZ AS nb02_processed_at_utc\n",
    "FROM unified b\n",
    "LEFT JOIN zones        pz ON pz.locationid = b.pulocationid\n",
    "LEFT JOIN zones        dz ON dz.locationid = b.dolocationid\n",
    "LEFT JOIN ratecode_map rm ON rm.ratecodeid = b.ratecodeid\n",
    "LEFT JOIN vendor_map   vm ON vm.vendorid   = b.vendorid\n",
    "LEFT JOIN payment_map  pm ON pm.payment_type = b.payment_type\n",
    "\"\"\"\n",
    "run_sql(sql_create, schema=SCHEMA_AN)\n",
    "\n",
    "rows = run_sql(f\"SELECT COUNT(*) FROM {SCHEMA_AN}.{DEST_TABLE}\", schema=SCHEMA_AN)\n",
    "total = rows[0][0] if rows else 0\n",
    "\n",
    "run_sql(f\"\"\"\n",
    "INSERT INTO {SCHEMA_AN}.LOAD_AUDIT(load_ts_utc, run_id, step, rows_affected, details)\n",
    "VALUES(CURRENT_TIMESTAMP(), '{RUN_ID}', 'NB02_CREATE_{DEST_TABLE}', {total}, '{SCHEMA_AN}.{DEST_TABLE}')\n",
    "\"\"\", schema=SCHEMA_AN)\n",
    "\n",
    "print('✓ Enriquecimiento/unificación OK. Filas destino:', total)\n"
   ]
  },
  {
   "cell_type": "markdown",
   "id": "275aa607",
   "metadata": {},
   "source": [
    "## 6) Checks y vista BI"
   ]
  },
  {
   "cell_type": "code",
   "execution_count": 54,
   "id": "6641b704",
   "metadata": {},
   "outputs": [
    {
     "name": "stdout",
     "output_type": "stream",
     "text": [
      "-- nulos_en_claves: (0, 0, 0, 0)\n",
      "-- rangos_no_negativos: (0, 2018450)\n",
      "✓ Vista creada: V_TRIPS_ENRICHED_UNIFIED\n"
     ]
    }
   ],
   "source": [
    "checks = {\n",
    "  'nulos_en_claves': f\"\"\"\n",
    "    SELECT SUM(IFF(pickup_datetime IS NULL,1,0)) AS null_pickup,\n",
    "           SUM(IFF(dropoff_datetime IS NULL,1,0)) AS null_dropoff,\n",
    "           SUM(IFF(pulocationid IS NULL,1,0)) AS null_pu,\n",
    "           SUM(IFF(dolocationid IS NULL,1,0)) AS null_do\n",
    "    FROM {SCHEMA_AN}.{DEST_TABLE}\n",
    "  \"\"\",\n",
    "  'rangos_no_negativos': f\"\"\"\n",
    "    SELECT SUM(IFF(trip_distance < 0,1,0)) AS dist_neg,\n",
    "           SUM(IFF(total_amount  < 0,1,0)) AS total_neg\n",
    "    FROM {SCHEMA_AN}.{DEST_TABLE}\n",
    "  \"\"\",\n",
    "}\n",
    "for name, q in checks.items():\n",
    "    out = run_sql(q, schema=SCHEMA_AN)\n",
    "    print(f\"-- {name}:\", out[0] if out else None)\n",
    "\n",
    "run_sql(f\"CREATE OR REPLACE VIEW {SCHEMA_AN}.V_{DEST_TABLE} AS SELECT * FROM {SCHEMA_AN}.{DEST_TABLE}\", schema=SCHEMA_AN)\n",
    "print('✓ Vista creada:', f'V_{DEST_TABLE}')"
   ]
  },
  {
   "cell_type": "code",
   "execution_count": null,
   "id": "1b40521d-28ae-4db1-9ff5-c03d09d501d8",
   "metadata": {},
   "outputs": [],
   "source": []
  }
 ],
 "metadata": {
  "kernelspec": {
   "display_name": "Python 3 (ipykernel)",
   "language": "python",
   "name": "python3"
  },
  "language_info": {
   "codemirror_mode": {
    "name": "ipython",
    "version": 3
   },
   "file_extension": ".py",
   "mimetype": "text/x-python",
   "name": "python",
   "nbconvert_exporter": "python",
   "pygments_lexer": "ipython3",
   "version": "3.11.6"
  }
 },
 "nbformat": 4,
 "nbformat_minor": 5
}
