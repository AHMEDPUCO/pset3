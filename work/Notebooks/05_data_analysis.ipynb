{
 "cells": [
  {
   "cell_type": "markdown",
   "id": "header",
   "metadata": {},
   "source": [
    "# 05 - Análisis de Datos (20 Preguntas de Negocio)\n",
    "\n",
    "## Objetivo\n",
    "Responder las 20 preguntas de negocio especificadas en el PDF"
   ]
  },
  {
   "cell_type": "code",
   "execution_count": 14,
   "id": "setup",
   "metadata": {},
   "outputs": [
    {
     "name": "stdout",
     "output_type": "stream",
     "text": [
      "✓ Snowflake context activo: DB=SPARK_DATA, SCHEMA=SPARK_DATA.RAW, WH=spark_wh, ROLE=ACCOUNTADMIN\n",
      "✓ Spark configurado con optimizaciones de memoria\n",
      "  RUN_ID: 20251020_011122\n",
      "  Evidencias: /home/jovyan/work/evidencias\n"
     ]
    }
   ],
   "source": [
    "from utils.snowflake_utils import get_spark_session, get_snowflake_options\n",
    "from pyspark.sql import functions as F\n",
    "import os, gc\n",
    "from pathlib import Path\n",
    "from datetime import datetime\n",
    "\n",
    "spark = get_spark_session(\"data_analysis\")\n",
    "sf_options = get_snowflake_options(schema=\"ANALYTICS\")\n",
    "\n",
    "# Configuración para optimizar memoria\n",
    "spark.conf.set(\"spark.sql.adaptive.enabled\", \"true\")\n",
    "spark.conf.set(\"spark.sql.adaptive.coalescePartitions.enabled\", \"true\")\n",
    "spark.conf.set(\"spark.sql.shuffle.partitions\", \"200\")\n",
    "\n",
    "RUN_ID = os.environ.get(\"RUN_ID\", datetime.utcnow().strftime(\"%Y%m%d_%H%M%S\"))\n",
    "EVID_DIR = Path(\"/home/jovyan/work/evidencias\")\n",
    "EVID_DIR.mkdir(parents=True, exist_ok=True)\n",
    "\n",
    "print(f\"✓ Spark configurado con optimizaciones de memoria\")\n",
    "print(f\"  RUN_ID: {RUN_ID}\")\n",
    "print(f\"  Evidencias: {EVID_DIR}\")"
   ]
  },
  {
   "cell_type": "code",
   "execution_count": 15,
   "id": "helper_functions",
   "metadata": {},
   "outputs": [],
   "source": [
    "def query_snowflake(sql, description=\"\"):\n",
    "    \"\"\"Ejecuta query directamente en Snowflake y retorna DataFrame pequeño.\"\"\"\n",
    "    print(f\"\\n{'='*60}\")\n",
    "    print(f\"Pregunta: {description}\")\n",
    "    print(f\"{'='*60}\")\n",
    "    \n",
    "    df = (spark.read.format(\"net.snowflake.spark.snowflake\")\n",
    "          .options(**sf_options)\n",
    "          .option(\"query\", sql)\n",
    "          .load())\n",
    "    return df\n",
    "\n",
    "def save_and_show(df, filename, description, limit=20):\n",
    "    \"\"\"Guarda resultado y muestra preview, luego libera memoria.\"\"\"\n",
    "    try:\n",
    "        # Forzar ejecución y mostrar\n",
    "        df.show(limit, truncate=False)\n",
    "        \n",
    "        # Guardar solo el resultado final (ya ejecutado)\n",
    "        pdf = df.toPandas()\n",
    "        filepath = EVID_DIR / filename\n",
    "        pdf.to_csv(filepath, index=False)\n",
    "        print(f\"✓ Guardado: {filepath}\")\n",
    "        \n",
    "        # Liberar memoria\n",
    "        del pdf\n",
    "        \n",
    "    except Exception as e:\n",
    "        print(f\"✗ Error en {description}: {e}\")\n",
    "    finally:\n",
    "        # Forzar garbage collection\n",
    "        gc.collect()"
   ]
  },
  {
   "cell_type": "markdown",
   "id": "section_preguntas",
   "metadata": {},
   "source": [
    "## Preguntas de Negocio "
   ]
  },
  {
   "cell_type": "markdown",
   "id": "q1",
   "metadata": {},
   "source": [
    "### a) Top 10 zonas de pickup por volumen mensual"
   ]
  },
  {
   "cell_type": "code",
   "execution_count": 16,
   "id": "answer_a",
   "metadata": {},
   "outputs": [
    {
     "name": "stdout",
     "output_type": "stream",
     "text": [
      "\n",
      "============================================================\n",
      "Pregunta: Top 10 zonas de pickup por volumen mensual\n",
      "============================================================\n",
      "+----+-----+----------------------------+-----+\n",
      "|YEAR|MONTH|PU_ZONE                     |TRIPS|\n",
      "+----+-----+----------------------------+-----+\n",
      "|2098|9    |Midtown North               |1    |\n",
      "|2090|12   |JFK Airport                 |1    |\n",
      "|2088|1    |Bloomingdale                |1    |\n",
      "|2088|1    |Central Harlem              |1    |\n",
      "|2084|11   |Upper West Side North       |2    |\n",
      "|2084|11   |TriBeCa/Civic Center        |1    |\n",
      "|2084|11   |Upper East Side North       |1    |\n",
      "|2084|11   |East Chelsea                |1    |\n",
      "|2084|11   |Murray Hill                 |1    |\n",
      "|2084|11   |Gramercy                    |1    |\n",
      "|2084|11   |Greenwich Village North     |1    |\n",
      "|2081|6    |Flushing Meadows-Corona Park|1    |\n",
      "|2070|8    |Queensbridge/Ravenswood     |1    |\n",
      "|2066|12   |UN/Turtle Bay South         |1    |\n",
      "|2062|8    |Astoria                     |1    |\n",
      "|2058|12   |Upper East Side South       |1    |\n",
      "|2058|12   |Penn Station/Madison Sq West|1    |\n",
      "|2058|12   |Lincoln Square East         |1    |\n",
      "|2053|7    |NULL                        |1    |\n",
      "|2053|3    |Brooklyn Heights            |1    |\n",
      "+----+-----+----------------------------+-----+\n",
      "only showing top 20 rows\n",
      "\n",
      "✓ Guardado: /home/jovyan/work/evidencias/a_top_pu_zones_monthly.csv\n"
     ]
    }
   ],
   "source": [
    "sql_a = \"\"\"\n",
    "SELECT \n",
    "    year,\n",
    "    month,\n",
    "    pu_zone,\n",
    "    COUNT(*) AS trips\n",
    "FROM SPARK_DATA.ANALYTICS.OBT_TRIPS\n",
    "GROUP BY year, month, pu_zone\n",
    "ORDER BY year DESC, month DESC, trips DESC\n",
    "LIMIT 120\n",
    "\"\"\"\n",
    "\n",
    "df_a = query_snowflake(sql_a, \"Top 10 zonas de pickup por volumen mensual\")\n",
    "save_and_show(df_a, \"a_top_pu_zones_monthly.csv\", \"Top PU zones\", 20)"
   ]
  },
  {
   "cell_type": "markdown",
   "id": "q2",
   "metadata": {},
   "source": [
    "### b) Top 10 zonas de dropoff por volumen mensual"
   ]
  },
  {
   "cell_type": "code",
   "execution_count": 17,
   "id": "answer_b",
   "metadata": {},
   "outputs": [
    {
     "name": "stdout",
     "output_type": "stream",
     "text": [
      "\n",
      "============================================================\n",
      "Pregunta: Top 10 zonas de dropoff por volumen mensual\n",
      "============================================================\n",
      "+----+-----+-----------------------+-----+\n",
      "|YEAR|MONTH|DO_ZONE                |TRIPS|\n",
      "+----+-----+-----------------------+-----+\n",
      "|2098|9    |TriBeCa/Civic Center   |1    |\n",
      "|2090|12   |Midtown North          |1    |\n",
      "|2088|1    |Midtown East           |1    |\n",
      "|2088|1    |Morningside Heights    |1    |\n",
      "|2084|11   |Upper West Side North  |2    |\n",
      "|2084|11   |Upper East Side South  |1    |\n",
      "|2084|11   |TriBeCa/Civic Center   |1    |\n",
      "|2084|11   |Upper East Side North  |1    |\n",
      "|2084|11   |East Chelsea           |1    |\n",
      "|2084|11   |Kips Bay               |1    |\n",
      "|2084|11   |Murray Hill            |1    |\n",
      "|2081|6    |Hammels/Arverne        |1    |\n",
      "|2070|8    |Queensbridge/Ravenswood|1    |\n",
      "|2066|12   |JFK Airport            |1    |\n",
      "|2062|8    |NULL                   |1    |\n",
      "|2058|12   |Midtown Center         |1    |\n",
      "|2058|12   |Midtown East           |1    |\n",
      "|2058|12   |Midtown North          |1    |\n",
      "|2053|7    |NULL                   |1    |\n",
      "|2053|3    |DUMBO/Vinegar Hill     |1    |\n",
      "+----+-----+-----------------------+-----+\n",
      "only showing top 20 rows\n",
      "\n",
      "✓ Guardado: /home/jovyan/work/evidencias/b_top_do_zones_monthly.csv\n"
     ]
    }
   ],
   "source": [
    "sql_b = \"\"\"\n",
    "SELECT \n",
    "    year,\n",
    "    month,\n",
    "    do_zone,\n",
    "    COUNT(*) AS trips\n",
    "FROM SPARK_DATA.ANALYTICS.OBT_TRIPS\n",
    "GROUP BY year, month, do_zone\n",
    "ORDER BY year DESC, month DESC, trips DESC\n",
    "LIMIT 120\n",
    "\"\"\"\n",
    "\n",
    "df_b = query_snowflake(sql_b, \"Top 10 zonas de dropoff por volumen mensual\")\n",
    "save_and_show(df_b, \"b_top_do_zones_monthly.csv\", \"Top DO zones\", 20)"
   ]
  },
  {
   "cell_type": "markdown",
   "id": "q3",
   "metadata": {},
   "source": [
    "### c) Evolución mensual de total_amount y tip_pct por borough"
   ]
  },
  {
   "cell_type": "code",
   "execution_count": 18,
   "id": "answer_c",
   "metadata": {},
   "outputs": [
    {
     "name": "stdout",
     "output_type": "stream",
     "text": [
      "\n",
      "============================================================\n",
      "Pregunta: Evolución mensual por borough\n",
      "============================================================\n",
      "+----+-----+----------+----------------+-----------+-----+\n",
      "|YEAR|MONTH|PU_BOROUGH|AVG_TOTAL_AMOUNT|AVG_TIP_PCT|TRIPS|\n",
      "+----+-----+----------+----------------+-----------+-----+\n",
      "|2001|1    |Brooklyn  |8.8             |0.0        |1    |\n",
      "|2001|1    |Manhattan |18.99           |0.01       |18   |\n",
      "|2001|1    |Queens    |49.9            |0.03       |5    |\n",
      "|2001|2    |Queens    |3.8             |0.0        |1    |\n",
      "|2001|8    |Queens    |24.55           |0.0        |1    |\n",
      "|2002|2    |Manhattan |17.9            |0.0        |11   |\n",
      "|2002|10   |Bronx     |3.8             |0.0        |2    |\n",
      "|2002|10   |Brooklyn  |25.91           |0.01       |14   |\n",
      "|2002|10   |EWR       |92.14           |0.06       |3    |\n",
      "|2002|10   |Manhattan |18.96           |0.05       |309  |\n",
      "|2002|10   |Queens    |44.46           |0.05       |78   |\n",
      "|2002|12   |Brooklyn  |31.3            |0.0        |1    |\n",
      "|2002|12   |Manhattan |18.44           |0.02       |22   |\n",
      "|2002|12   |Queens    |43.28           |0.07       |20   |\n",
      "|2003|1    |Manhattan |28.6            |0.03       |18   |\n",
      "|2003|1    |Queens    |32.81           |0.04       |22   |\n",
      "|2003|3    |Queens    |3.31            |0.0        |1    |\n",
      "|2003|12   |Manhattan |7.3             |0.0        |1    |\n",
      "|2004|4    |Manhattan |12.3            |0.12       |1    |\n",
      "|2008|8    |Manhattan |2.83            |0.17       |2    |\n",
      "|2008|10   |Queens    |0.0             |NULL       |1    |\n",
      "|2008|12   |Bronx     |16.97           |0.0        |3    |\n",
      "|2008|12   |Brooklyn  |19.44           |0.03       |47   |\n",
      "|2008|12   |Manhattan |17.14           |0.05       |597  |\n",
      "|2008|12   |Queens    |38.48           |0.06       |205  |\n",
      "|2009|1    |Bronx     |20.9            |0.0        |21   |\n",
      "|2009|1    |Brooklyn  |19.08           |0.03       |97   |\n",
      "|2009|1    |Manhattan |15.49           |0.04       |1092 |\n",
      "|2009|1    |Queens    |30.47           |0.04       |360  |\n",
      "|2010|8    |Manhattan |18.36           |0.17       |1    |\n",
      "+----+-----+----------+----------------+-----------+-----+\n",
      "only showing top 30 rows\n",
      "\n",
      "✓ Guardado: /home/jovyan/work/evidencias/c_monthly_evolution_by_borough.csv\n"
     ]
    }
   ],
   "source": [
    "sql_c = \"\"\"\n",
    "SELECT \n",
    "    year,\n",
    "    month,\n",
    "    pu_borough,\n",
    "    ROUND(AVG(total_amount), 2) AS avg_total_amount,\n",
    "    ROUND(AVG(tip_pct), 2) AS avg_tip_pct,\n",
    "    COUNT(*) AS trips\n",
    "FROM SPARK_DATA.ANALYTICS.OBT_TRIPS\n",
    "WHERE pu_borough != 'Unknown'\n",
    "GROUP BY year, month, pu_borough\n",
    "ORDER BY year, month, pu_borough\n",
    "\"\"\"\n",
    "\n",
    "df_c = query_snowflake(sql_c, \"Evolución mensual por borough\")\n",
    "save_and_show(df_c, \"c_monthly_evolution_by_borough.csv\", \"Evolution borough\", 30)"
   ]
  },
  {
   "cell_type": "markdown",
   "id": "q4",
   "metadata": {},
   "source": [
    "### d) Ticket promedio por service_type y mes"
   ]
  },
  {
   "cell_type": "code",
   "execution_count": 19,
   "id": "answer_d",
   "metadata": {},
   "outputs": [
    {
     "name": "stdout",
     "output_type": "stream",
     "text": [
      "\n",
      "============================================================\n",
      "Pregunta: Ticket promedio por servicio y mes\n",
      "============================================================\n",
      "+----+-----+------------+----------+--------+\n",
      "|YEAR|MONTH|SERVICE_TYPE|AVG_TICKET|TRIPS   |\n",
      "+----+-----+------------+----------+--------+\n",
      "|2001|1    |yellow      |24.16     |25      |\n",
      "|2001|2    |yellow      |3.8       |1       |\n",
      "|2001|8    |yellow      |24.55     |1       |\n",
      "|2002|2    |yellow      |17.9      |11      |\n",
      "|2002|10   |yellow      |25.42     |425     |\n",
      "|2002|12   |yellow      |27.97     |47      |\n",
      "|2003|1    |yellow      |25.97     |48      |\n",
      "|2003|3    |yellow      |3.31      |1       |\n",
      "|2003|12   |yellow      |7.3       |1       |\n",
      "|2004|4    |yellow      |12.3      |1       |\n",
      "|2008|8    |yellow      |2.83      |2       |\n",
      "|2008|10   |green       |0.0       |1       |\n",
      "|2008|12   |green       |13.55     |112     |\n",
      "|2008|12   |yellow      |23.33     |762     |\n",
      "|2009|1    |green       |16.36     |312     |\n",
      "|2009|1    |yellow      |19.74     |1290    |\n",
      "|2010|8    |yellow      |18.36     |1       |\n",
      "|2010|9    |green       |17.98     |347     |\n",
      "|2011|1    |yellow      |12.8      |2       |\n",
      "|2011|2    |yellow      |14.98     |2       |\n",
      "|2012|2    |yellow      |0.0       |1       |\n",
      "|2012|9    |green       |9.79      |3       |\n",
      "|2014|11   |yellow      |52.38     |1       |\n",
      "|2015|1    |green       |14.79     |1506170 |\n",
      "|2015|1    |yellow      |15.11     |12736421|\n",
      "|2015|2    |green       |14.5      |1572537 |\n",
      "|2015|2    |yellow      |15.4      |12438062|\n",
      "|2015|3    |green       |14.58     |1720123 |\n",
      "|2015|3    |yellow      |15.85     |13338252|\n",
      "|2015|4    |green       |14.82     |1661980 |\n",
      "+----+-----+------------+----------+--------+\n",
      "only showing top 30 rows\n",
      "\n",
      "✓ Guardado: /home/jovyan/work/evidencias/d_avg_ticket_by_service_month.csv\n"
     ]
    }
   ],
   "source": [
    "sql_d = \"\"\"\n",
    "SELECT \n",
    "    year,\n",
    "    month,\n",
    "    service_type,\n",
    "    ROUND(AVG(total_amount), 2) AS avg_ticket,\n",
    "    COUNT(*) AS trips\n",
    "FROM SPARK_DATA.ANALYTICS.OBT_TRIPS\n",
    "GROUP BY year, month, service_type\n",
    "ORDER BY year, month, service_type\n",
    "\"\"\"\n",
    "\n",
    "df_d = query_snowflake(sql_d, \"Ticket promedio por servicio y mes\")\n",
    "save_and_show(df_d, \"d_avg_ticket_by_service_month.csv\", \"Avg ticket\", 30)"
   ]
  },
  {
   "cell_type": "markdown",
   "id": "q5",
   "metadata": {},
   "source": [
    "### e) Viajes por hora del día y día de semana (picos)"
   ]
  },
  {
   "cell_type": "code",
   "execution_count": 20,
   "id": "answer_e",
   "metadata": {},
   "outputs": [
    {
     "name": "stdout",
     "output_type": "stream",
     "text": [
      "\n",
      "============================================================\n",
      "Pregunta: Viajes por hora y día de semana\n",
      "============================================================\n",
      "+-----------+-----------+-------+\n",
      "|PICKUP_HOUR|DAY_OF_WEEK|TRIPS  |\n",
      "+-----------+-----------+-------+\n",
      "|19         |Fri        |8085381|\n",
      "|18         |Fri        |8079215|\n",
      "|18         |Thu        |8065882|\n",
      "|18         |Wed        |7969811|\n",
      "|19         |Thu        |7889838|\n",
      "|18         |Tue        |7866078|\n",
      "|19         |Wed        |7747710|\n",
      "|21         |Thu        |7527772|\n",
      "|20         |Thu        |7490767|\n",
      "|19         |Sat        |7477011|\n",
      "|19         |Tue        |7414601|\n",
      "|18         |Sat        |7400524|\n",
      "|18         |Mon        |7271765|\n",
      "|21         |Wed        |7267044|\n",
      "|20         |Wed        |7266850|\n",
      "|22         |Fri        |7178517|\n",
      "|22         |Thu        |7088315|\n",
      "|20         |Fri        |7078196|\n",
      "|17         |Fri        |7066933|\n",
      "|17         |Thu        |7019118|\n",
      "|20         |Tue        |6966762|\n",
      "|17         |Wed        |6966428|\n",
      "|21         |Fri        |6929618|\n",
      "|21         |Tue        |6929545|\n",
      "|23         |Fri        |6920020|\n",
      "|23         |Sat        |6902951|\n",
      "|17         |Tue        |6880626|\n",
      "|22         |Sat        |6842612|\n",
      "|17         |Sat        |6805654|\n",
      "|19         |Mon        |6696353|\n",
      "+-----------+-----------+-------+\n",
      "only showing top 30 rows\n",
      "\n",
      "✓ Guardado: /home/jovyan/work/evidencias/e_trips_by_hour_dow.csv\n"
     ]
    }
   ],
   "source": [
    "sql_e = \"\"\"\n",
    "SELECT \n",
    "    pickup_hour,\n",
    "    day_of_week,\n",
    "    COUNT(*) AS trips\n",
    "FROM SPARK_DATA.ANALYTICS.OBT_TRIPS\n",
    "GROUP BY pickup_hour, day_of_week\n",
    "ORDER BY trips DESC\n",
    "LIMIT 100\n",
    "\"\"\"\n",
    "\n",
    "df_e = query_snowflake(sql_e, \"Viajes por hora y día de semana\")\n",
    "save_and_show(df_e, \"e_trips_by_hour_dow.csv\", \"Peak hours\", 30)"
   ]
  },
  {
   "cell_type": "markdown",
   "id": "q6",
   "metadata": {},
   "source": [
    "### f) p50/p90 de trip_duration_min por borough de pickup"
   ]
  },
  {
   "cell_type": "code",
   "execution_count": 39,
   "id": "answer_f",
   "metadata": {},
   "outputs": [
    {
     "name": "stdout",
     "output_type": "stream",
     "text": [
      "\n",
      "============================================================\n",
      "Pregunta: Percentiles de duración por borough\n",
      "============================================================\n",
      "+-------------+-------------------+-------------------+---------+\n",
      "|PU_BOROUGH   |P50_DURATION_APPROX|P90_DURATION_APPROX|TRIPS    |\n",
      "+-------------+-------------------+-------------------+---------+\n",
      "|Bronx        |14.0               |38.0               |4822364  |\n",
      "|Brooklyn     |13.0               |32.01              |33702956 |\n",
      "|EWR          |1.0                |11.94              |29229    |\n",
      "|Manhattan    |11.0               |25.0               |697547525|\n",
      "|Queens       |25.0               |54.07              |67519443 |\n",
      "|Staten Island|29.0               |74.0               |44996    |\n",
      "+-------------+-------------------+-------------------+---------+\n",
      "\n",
      "✓ Guardado: /home/jovyan/work/evidencias/f_duration_percentiles_by_borough.csv\n"
     ]
    }
   ],
   "source": [
    "sql_f = \"\"\"\n",
    "SELECT \n",
    "    pu_borough,\n",
    "    ROUND(APPROX_PERCENTILE(trip_duration_min, 0.5), 2) AS p50_duration_approx,\n",
    "    ROUND(APPROX_PERCENTILE(trip_duration_min, 0.9), 2) AS p90_duration_approx,\n",
    "    COUNT(*) AS trips\n",
    "FROM SPARK_DATA.ANALYTICS.OBT_TRIPS\n",
    "WHERE pu_borough != 'Unknown'\n",
    "  AND trip_duration_min > 0\n",
    "GROUP BY pu_borough\n",
    "ORDER BY pu_borough;\n",
    "\n",
    "\"\"\"\n",
    "\n",
    "df_f = query_snowflake(sql_f, \"Percentiles de duración por borough\")\n",
    "save_and_show(df_f, \"f_duration_percentiles_by_borough.csv\", \"Duration percentiles\", 10)"
   ]
  },
  {
   "cell_type": "markdown",
   "id": "q7",
   "metadata": {},
   "source": [
    "### g) avg_speed_mph por franja horaria y borough"
   ]
  },
  {
   "cell_type": "code",
   "execution_count": 24,
   "id": "answer_g",
   "metadata": {},
   "outputs": [
    {
     "name": "stdout",
     "output_type": "stream",
     "text": [
      "\n",
      "============================================================\n",
      "Pregunta: Velocidad promedio por franja horaria y borough\n",
      "============================================================\n",
      "+-------------+-------------+---------+---------+\n",
      "|TIME_SLOT    |PU_BOROUGH   |AVG_SPEED|TRIPS    |\n",
      "+-------------+-------------+---------+---------+\n",
      "|06-09 Morning|Bronx        |130.76   |946281   |\n",
      "|06-09 Morning|Brooklyn     |46.33    |4234992  |\n",
      "|06-09 Morning|EWR          |170.74   |1963     |\n",
      "|06-09 Morning|Manhattan    |20.89    |102470517|\n",
      "|06-09 Morning|Queens       |35.83    |8434854  |\n",
      "|06-09 Morning|Staten Island|33.73    |8111     |\n",
      "|17-20 Evening|Bronx        |40.98    |927816   |\n",
      "|17-20 Evening|Brooklyn     |19.13    |7461647  |\n",
      "|17-20 Evening|EWR          |194.66   |2590     |\n",
      "|17-20 Evening|Manhattan    |39.87    |168349304|\n",
      "|17-20 Evening|Queens       |34.11    |16257703 |\n",
      "|17-20 Evening|Staten Island|96.95    |7308     |\n",
      "|Other        |Bronx        |92.28    |2792403  |\n",
      "|Other        |Brooklyn     |33.69    |21627585 |\n",
      "|Other        |EWR          |186.81   |7029     |\n",
      "|Other        |Manhattan    |19.98    |424460003|\n",
      "|Other        |Queens       |35.46    |42072993 |\n",
      "|Other        |Staten Island|298.97   |25621    |\n",
      "+-------------+-------------+---------+---------+\n",
      "\n",
      "✓ Guardado: /home/jovyan/work/evidencias/g_avg_speed_by_timeslot_borough.csv\n"
     ]
    }
   ],
   "source": [
    "sql_g = \"\"\"\n",
    "SELECT \n",
    "    CASE \n",
    "        WHEN pickup_hour BETWEEN 6 AND 9 THEN '06-09 Morning'\n",
    "        WHEN pickup_hour BETWEEN 17 AND 20 THEN '17-20 Evening'\n",
    "        ELSE 'Other'\n",
    "    END AS time_slot,\n",
    "    pu_borough,\n",
    "    ROUND(AVG(avg_speed_mph), 2) AS avg_speed,\n",
    "    COUNT(*) AS trips\n",
    "FROM SPARK_DATA.ANALYTICS.OBT_TRIPS\n",
    "WHERE pu_borough != 'Unknown'\n",
    "  AND avg_speed_mph IS NOT NULL\n",
    "  AND avg_speed_mph > 0\n",
    "GROUP BY time_slot, pu_borough\n",
    "ORDER BY time_slot, pu_borough\n",
    "\"\"\"\n",
    "\n",
    "df_g = query_snowflake(sql_g, \"Velocidad promedio por franja horaria y borough\")\n",
    "save_and_show(df_g, \"g_avg_speed_by_timeslot_borough.csv\", \"Avg speed\", 20)"
   ]
  },
  {
   "cell_type": "markdown",
   "id": "q8",
   "metadata": {},
   "source": [
    "### h) Participación por payment_type_desc y relación con tip_pct"
   ]
  },
  {
   "cell_type": "code",
   "execution_count": 25,
   "id": "answer_h",
   "metadata": {},
   "outputs": [
    {
     "name": "stdout",
     "output_type": "stream",
     "text": [
      "\n",
      "============================================================\n",
      "Pregunta: Participación por tipo de pago y propina\n",
      "============================================================\n",
      "+-----------------+---------+------------+-----------+--------------+\n",
      "|PAYMENT_TYPE_DESC|TRIPS    |PCT_OF_TOTAL|AVG_TIP_PCT|AVG_TIP_AMOUNT|\n",
      "+-----------------+---------+------------+-----------+--------------+\n",
      "|Credit Card      |549846312|67.18       |0.15       |2.98          |\n",
      "|Cash             |251349549|30.71       |0.0        |0.0           |\n",
      "|Unknown          |9382205  |1.15        |0.28       |20.71         |\n",
      "|No Charge        |3787215  |0.46        |0.0        |0.04          |\n",
      "|Dispute          |2219711  |0.27        |0.0        |0.03          |\n",
      "|NULL             |1829548  |0.22        |0.03       |0.88          |\n",
      "+-----------------+---------+------------+-----------+--------------+\n",
      "\n",
      "✓ Guardado: /home/jovyan/work/evidencias/h_payment_type_participation.csv\n"
     ]
    }
   ],
   "source": [
    "sql_h = \"\"\"\n",
    "SELECT \n",
    "    payment_type_desc,\n",
    "    COUNT(*) AS trips,\n",
    "    ROUND(100.0 * COUNT(*) / SUM(COUNT(*)) OVER (), 2) AS pct_of_total,\n",
    "    ROUND(AVG(tip_pct), 2) AS avg_tip_pct,\n",
    "    ROUND(AVG(tip_amount), 2) AS avg_tip_amount\n",
    "FROM SPARK_DATA.ANALYTICS.OBT_TRIPS\n",
    "GROUP BY payment_type_desc\n",
    "ORDER BY trips DESC\n",
    "\"\"\"\n",
    "\n",
    "df_h = query_snowflake(sql_h, \"Participación por tipo de pago y propina\")\n",
    "save_and_show(df_h, \"h_payment_type_participation.csv\", \"Payment types\", 10)"
   ]
  },
  {
   "cell_type": "markdown",
   "id": "q9",
   "metadata": {},
   "source": [
    "### i) Rate codes con mayor trip_distance y total_amount"
   ]
  },
  {
   "cell_type": "code",
   "execution_count": 26,
   "id": "answer_i",
   "metadata": {},
   "outputs": [
    {
     "name": "stdout",
     "output_type": "stream",
     "text": [
      "\n",
      "============================================================\n",
      "Pregunta: Rate codes por distancia y revenue\n",
      "============================================================\n",
      "+---------------------+---------+---------------+------------+-----------------+----------+\n",
      "|RATE_CODE_DESC       |TRIPS    |TOTAL_DISTANCE |AVG_DISTANCE|TOTAL_REVENUE    |AVG_AMOUNT|\n",
      "+---------------------+---------+---------------+------------+-----------------+----------+\n",
      "|Standard rate        |780536229|3.47480959413E9|4.45        |1.270860302435E10|16.28     |\n",
      "|NULL                 |12062203 |6.4959461609E8 |53.85       |3.661169662E8    |30.35     |\n",
      "|JFK                  |18681164 |4.1305612683E8 |22.11       |1.29680395028E9  |69.42     |\n",
      "|Negotiated fare      |4866382  |8.882004435E7  |18.25       |2.6374460516E8   |54.2      |\n",
      "|Newark               |1634103  |2.711823245E7  |16.6        |1.5093149036E8   |92.36     |\n",
      "|Nassau or Westchester|627343   |1.84984592E7   |29.49       |5.819990246E7    |92.77     |\n",
      "|Group ride           |7116     |8903.37        |1.25        |179496.34        |25.22     |\n",
      "+---------------------+---------+---------------+------------+-----------------+----------+\n",
      "\n",
      "✓ Guardado: /home/jovyan/work/evidencias/i_rate_codes_distance_revenue.csv\n"
     ]
    }
   ],
   "source": [
    "sql_i = \"\"\"\n",
    "SELECT \n",
    "    rate_code_desc,\n",
    "    COUNT(*) AS trips,\n",
    "    ROUND(SUM(trip_distance), 2) AS total_distance,\n",
    "    ROUND(AVG(trip_distance), 2) AS avg_distance,\n",
    "    ROUND(SUM(total_amount), 2) AS total_revenue,\n",
    "    ROUND(AVG(total_amount), 2) AS avg_amount\n",
    "FROM SPARK_DATA.ANALYTICS.OBT_TRIPS\n",
    "GROUP BY rate_code_desc\n",
    "ORDER BY total_distance DESC\n",
    "\"\"\"\n",
    "\n",
    "df_i = query_snowflake(sql_i, \"Rate codes por distancia y revenue\")\n",
    "save_and_show(df_i, \"i_rate_codes_distance_revenue.csv\", \"Rate codes\", 10)"
   ]
  },
  {
   "cell_type": "markdown",
   "id": "q10",
   "metadata": {},
   "source": [
    "### j) Mix yellow vs green por mes y borough"
   ]
  },
  {
   "cell_type": "code",
   "execution_count": 27,
   "id": "answer_j",
   "metadata": {},
   "outputs": [
    {
     "name": "stdout",
     "output_type": "stream",
     "text": [
      "\n",
      "============================================================\n",
      "Pregunta: Mix yellow vs green por mes y borough\n",
      "============================================================\n",
      "+----+-----+----------+------------+-----+\n",
      "|YEAR|MONTH|PU_BOROUGH|SERVICE_TYPE|TRIPS|\n",
      "+----+-----+----------+------------+-----+\n",
      "|2098|9    |Manhattan |yellow      |1    |\n",
      "|2090|12   |Queens    |yellow      |1    |\n",
      "|2088|1    |Manhattan |yellow      |2    |\n",
      "|2084|11   |Manhattan |yellow      |8    |\n",
      "|2081|6    |Queens    |green       |1    |\n",
      "|2070|8    |Queens    |yellow      |1    |\n",
      "|2066|12   |Manhattan |yellow      |1    |\n",
      "|2062|8    |Queens    |green       |1    |\n",
      "|2058|12   |Manhattan |yellow      |3    |\n",
      "|2053|3    |Brooklyn  |yellow      |1    |\n",
      "|2042|12   |Manhattan |yellow      |1    |\n",
      "|2041|11   |Manhattan |yellow      |1    |\n",
      "|2041|8    |Queens    |green       |1    |\n",
      "|2041|6    |Manhattan |yellow      |1    |\n",
      "|2041|3    |Manhattan |yellow      |1    |\n",
      "|2038|2    |Manhattan |yellow      |4    |\n",
      "|2037|11   |Manhattan |yellow      |1    |\n",
      "|2035|9    |Queens    |green       |1    |\n",
      "|2033|4    |Manhattan |yellow      |3    |\n",
      "|2032|2    |Queens    |yellow      |1    |\n",
      "|2031|2    |Manhattan |yellow      |2    |\n",
      "|2030|11   |Manhattan |green       |2    |\n",
      "|2029|11   |Brooklyn  |yellow      |1    |\n",
      "|2029|11   |Manhattan |yellow      |2    |\n",
      "|2029|5    |Manhattan |yellow      |3    |\n",
      "|2028|12   |Queens    |yellow      |1    |\n",
      "|2026|12   |Queens    |yellow      |1    |\n",
      "|2026|6    |Manhattan |yellow      |1    |\n",
      "|2026|6    |Queens    |yellow      |1    |\n",
      "|2026|2    |Manhattan |yellow      |2    |\n",
      "+----+-----+----------+------------+-----+\n",
      "only showing top 30 rows\n",
      "\n",
      "✓ Guardado: /home/jovyan/work/evidencias/j_service_mix_by_month_borough.csv\n"
     ]
    }
   ],
   "source": [
    "sql_j = \"\"\"\n",
    "SELECT \n",
    "    year,\n",
    "    month,\n",
    "    pu_borough,\n",
    "    service_type,\n",
    "    COUNT(*) AS trips\n",
    "FROM SPARK_DATA.ANALYTICS.OBT_TRIPS\n",
    "WHERE pu_borough != 'Unknown'\n",
    "GROUP BY year, month, pu_borough, service_type\n",
    "ORDER BY year DESC, month DESC, pu_borough, service_type\n",
    "LIMIT 200\n",
    "\"\"\"\n",
    "\n",
    "df_j = query_snowflake(sql_j, \"Mix yellow vs green por mes y borough\")\n",
    "save_and_show(df_j, \"j_service_mix_by_month_borough.csv\", \"Service mix\", 30)"
   ]
  },
  {
   "cell_type": "markdown",
   "id": "q11",
   "metadata": {},
   "source": [
    "### k) Top 20 flujos PU→DO por volumen y ticket promedio"
   ]
  },
  {
   "cell_type": "code",
   "execution_count": 28,
   "id": "answer_k",
   "metadata": {},
   "outputs": [
    {
     "name": "stdout",
     "output_type": "stream",
     "text": [
      "\n",
      "============================================================\n",
      "Pregunta: Top 20 flujos PU→DO\n",
      "============================================================\n",
      "+----------------------------+----------------------------+-------+----------+-------------+\n",
      "|PU_ZONE                     |DO_ZONE                     |TRIPS  |AVG_TICKET|TOTAL_REVENUE|\n",
      "+----------------------------+----------------------------+-------+----------+-------------+\n",
      "|Upper East Side South       |Upper East Side North       |4284312|10.09     |4.322970797E7|\n",
      "|Upper East Side North       |Upper East Side South       |3661476|11.03     |4.037671847E7|\n",
      "|Upper East Side North       |Upper East Side North       |3418818|8.35      |2.853545724E7|\n",
      "|Upper East Side South       |Upper East Side South       |3255592|8.86      |2.88366022E7 |\n",
      "|Upper West Side South       |Upper West Side North       |1932930|8.73      |1.686584232E7|\n",
      "|Upper West Side South       |Lincoln Square East         |1918577|9.26      |1.776883937E7|\n",
      "|Upper East Side South       |Midtown East                |1845687|10.47     |1.932434152E7|\n",
      "|Upper East Side South       |Midtown Center              |1831826|11.84     |2.16959316E7 |\n",
      "|Lincoln Square East         |Upper West Side South       |1825825|9.7       |1.770369486E7|\n",
      "|Midtown Center              |Upper East Side South       |1739202|11.39     |1.981134673E7|\n",
      "|Upper West Side North       |Upper West Side South       |1669674|8.7       |1.453340867E7|\n",
      "|Lenox Hill West             |Upper East Side North       |1638483|9.91      |1.624523899E7|\n",
      "|Penn Station/Madison Sq West|Times Sq/Theatre District   |1595370|12.18     |1.942647418E7|\n",
      "|Penn Station/Madison Sq West|Midtown Center              |1592700|12.87     |2.049367983E7|\n",
      "|Times Sq/Theatre District   |Penn Station/Madison Sq West|1478026|10.53     |1.556834788E7|\n",
      "|Upper East Side South       |Lenox Hill West             |1465236|9.05      |1.326733436E7|\n",
      "|Clinton East                |Clinton East                |1462290|9.77      |1.429272956E7|\n",
      "|Gramercy                    |Murray Hill                 |1459983|10.14     |1.480819023E7|\n",
      "|Lenox Hill West             |Upper East Side South       |1417571|9.62      |1.36346599E7 |\n",
      "|Yorkville West              |Upper East Side North       |1414953|8.39      |1.186800375E7|\n",
      "+----------------------------+----------------------------+-------+----------+-------------+\n",
      "\n",
      "✓ Guardado: /home/jovyan/work/evidencias/k_top_routes_volume.csv\n"
     ]
    }
   ],
   "source": [
    "sql_k = \"\"\"\n",
    "SELECT \n",
    "    pu_zone,\n",
    "    do_zone,\n",
    "    COUNT(*) AS trips,\n",
    "    ROUND(AVG(total_amount), 2) AS avg_ticket,\n",
    "    ROUND(SUM(total_amount), 2) AS total_revenue\n",
    "FROM SPARK_DATA.ANALYTICS.OBT_TRIPS\n",
    "WHERE pu_zone != 'Unknown' AND do_zone != 'Unknown'\n",
    "GROUP BY pu_zone, do_zone\n",
    "ORDER BY trips DESC\n",
    "LIMIT 20\n",
    "\"\"\"\n",
    "\n",
    "df_k = query_snowflake(sql_k, \"Top 20 flujos PU→DO\")\n",
    "save_and_show(df_k, \"k_top_routes_volume.csv\", \"Top routes\", 20)"
   ]
  },
  {
   "cell_type": "markdown",
   "id": "q12",
   "metadata": {},
   "source": [
    "### l) Distribución de passenger_count y efecto en total_amount"
   ]
  },
  {
   "cell_type": "code",
   "execution_count": 29,
   "id": "answer_l",
   "metadata": {},
   "outputs": [
    {
     "name": "stdout",
     "output_type": "stream",
     "text": [
      "\n",
      "============================================================\n",
      "Pregunta: Distribución passenger_count\n",
      "============================================================\n",
      "+---------------+---------+----------------+------------+\n",
      "|PASSENGER_COUNT|TRIPS    |AVG_TOTAL_AMOUNT|AVG_DISTANCE|\n",
      "+---------------+---------+----------------+------------+\n",
      "|1.0            |587087258|17.77           |5.26        |\n",
      "|2.0            |113770945|19.11           |5.04        |\n",
      "|3.0            |31687694 |18.63           |4.28        |\n",
      "|4.0            |15160104 |19.29           |4.35        |\n",
      "|5.0            |33328168 |17.01           |3.05        |\n",
      "|6.0            |20487740 |16.84           |3.0         |\n",
      "|7.0            |3756     |46.08           |2.67        |\n",
      "|8.0            |3787     |47.17           |3.13        |\n",
      "|9.0            |1960     |61.08           |4.7         |\n",
      "+---------------+---------+----------------+------------+\n",
      "\n",
      "✓ Guardado: /home/jovyan/work/evidencias/l_passenger_count_distribution.csv\n"
     ]
    }
   ],
   "source": [
    "sql_l = \"\"\"\n",
    "SELECT \n",
    "    passenger_count,\n",
    "    COUNT(*) AS trips,\n",
    "    ROUND(AVG(total_amount), 2) AS avg_total_amount,\n",
    "    ROUND(AVG(trip_distance), 2) AS avg_distance\n",
    "FROM SPARK_DATA.ANALYTICS.OBT_TRIPS\n",
    "WHERE passenger_count BETWEEN 1 AND 9\n",
    "GROUP BY passenger_count\n",
    "ORDER BY passenger_count\n",
    "\"\"\"\n",
    "\n",
    "df_l = query_snowflake(sql_l, \"Distribución passenger_count\")\n",
    "save_and_show(df_l, \"l_passenger_count_distribution.csv\", \"Passenger count\", 10)"
   ]
  },
  {
   "cell_type": "markdown",
   "id": "q13",
   "metadata": {},
   "source": [
    "### m) Impacto de tolls_amount y congestion_surcharge por zona"
   ]
  },
  {
   "cell_type": "code",
   "execution_count": 30,
   "id": "answer_m",
   "metadata": {},
   "outputs": [
    {
     "name": "stdout",
     "output_type": "stream",
     "text": [
      "\n",
      "============================================================\n",
      "Pregunta: Impacto de tolls y congestion por zona\n",
      "============================================================\n",
      "+-----------------------------------+--------+---------+--------------+---------+\n",
      "|PU_ZONE                            |TRIPS   |AVG_TOLLS|AVG_CONGESTION|AVG_TOTAL|\n",
      "+-----------------------------------+--------+---------+--------------+---------+\n",
      "|Arden Heights                      |2207    |13.82    |0.11          |85.04    |\n",
      "|Arrochar/Fort Wadsworth            |4195    |9.26     |0.08          |33.16    |\n",
      "|Bloomfield/Emerson Hill            |7270    |7.29     |0.04          |69.1     |\n",
      "|Charleston/Tottenville             |3842    |6.99     |0.01          |89.63    |\n",
      "|South Beach/Dongan Hills           |1758    |5.19     |0.08          |50.27    |\n",
      "|Grymes Hill/Clifton                |5266    |4.84     |0.06          |45.19    |\n",
      "|Mariners Harbor                    |4988    |4.78     |0.07          |48.7     |\n",
      "|Randalls Island                    |54426   |4.12     |1.09          |57.57    |\n",
      "|Westerleigh                        |1542    |3.88     |0.2           |45.7     |\n",
      "|LaGuardia Airport                  |19598571|3.81     |1.51          |46.05    |\n",
      "|Heartland Village/Todt Hill        |2398    |3.57     |0.24          |53.32    |\n",
      "|Port Richmond                      |1303    |3.56     |0.2           |39.34    |\n",
      "|Baisley Park                       |229393  |3.54     |1.31          |57.98    |\n",
      "|East Elmhurst                      |754721  |3.46     |1.45          |47.47    |\n",
      "|Newark Airport                     |69928   |3.21     |0.02          |92.3     |\n",
      "|Stapleton                          |4521    |3.15     |0.25          |37.01    |\n",
      "|Rockaway Park                      |8706    |2.96     |0.06          |50.35    |\n",
      "|JFK Airport                        |21523707|2.9      |1.13          |60.29    |\n",
      "|Breezy Point/Fort Tilden/Riis Beach|1523    |2.84     |0.12          |47.19    |\n",
      "|Springfield Gardens South          |75126   |2.8      |0.7           |57.01    |\n",
      "|Hammels/Arverne                    |34314   |2.79     |0.02          |56.92    |\n",
      "|South Jamaica                      |124267  |2.69     |0.94          |48.75    |\n",
      "|Saint George/New Brighton          |6213    |2.68     |0.12          |37.93    |\n",
      "|Flushing Meadows-Corona Park       |275955  |2.39     |1.25          |46.6     |\n",
      "|West Brighton                      |1575    |2.2      |0.29          |33.85    |\n",
      "|Astoria Park                       |10847   |2.19     |0.92          |32.99    |\n",
      "|Far Rockaway                       |28946   |1.91     |0.03          |54.75    |\n",
      "|Marine Park/Floyd Bennett Field    |6128    |1.85     |0.18          |42.95    |\n",
      "|City Island                        |6164    |1.74     |0.04          |41.51    |\n",
      "|Outside of NYC                     |622836  |1.7      |0.13          |69.01    |\n",
      "+-----------------------------------+--------+---------+--------------+---------+\n",
      "\n",
      "✓ Guardado: /home/jovyan/work/evidencias/m_surcharges_impact_by_zone.csv\n"
     ]
    }
   ],
   "source": [
    "sql_m = \"\"\"\n",
    "SELECT \n",
    "    pu_zone,\n",
    "    COUNT(*) AS trips,\n",
    "    ROUND(AVG(tolls_amount), 2) AS avg_tolls,\n",
    "    ROUND(AVG(congestion_surcharge), 2) AS avg_congestion,\n",
    "    ROUND(AVG(total_amount), 2) AS avg_total\n",
    "FROM SPARK_DATA.ANALYTICS.OBT_TRIPS\n",
    "WHERE pu_zone != 'Unknown'\n",
    "GROUP BY pu_zone\n",
    "HAVING COUNT(*) >= 1000\n",
    "ORDER BY avg_tolls DESC\n",
    "LIMIT 30\n",
    "\"\"\"\n",
    "\n",
    "df_m = query_snowflake(sql_m, \"Impacto de tolls y congestion por zona\")\n",
    "save_and_show(df_m, \"m_surcharges_impact_by_zone.csv\", \"Surcharges\", 30)"
   ]
  },
  {
   "cell_type": "markdown",
   "id": "q14",
   "metadata": {},
   "source": [
    "### n) Proporción viajes cortos vs largos por borough y estacionalidad"
   ]
  },
  {
   "cell_type": "code",
   "execution_count": 31,
   "id": "answer_n",
   "metadata": {},
   "outputs": [
    {
     "name": "stdout",
     "output_type": "stream",
     "text": [
      "\n",
      "============================================================\n",
      "Pregunta: Proporción viajes cortos vs largos\n",
      "============================================================\n",
      "+----------+-----+--------------+------+\n",
      "|PU_BOROUGH|MONTH|TRIP_CATEGORY |TRIPS |\n",
      "+----------+-----+--------------+------+\n",
      "|Bronx     |1    |Long (>5mi)   |111388|\n",
      "|Bronx     |1    |Medium (2-5mi)|131547|\n",
      "|Bronx     |1    |Short (<=2mi) |190493|\n",
      "|Bronx     |2    |Long (>5mi)   |113891|\n",
      "|Bronx     |2    |Medium (2-5mi)|143194|\n",
      "|Bronx     |2    |Short (<=2mi) |208412|\n",
      "|Bronx     |3    |Long (>5mi)   |129170|\n",
      "|Bronx     |3    |Medium (2-5mi)|163687|\n",
      "|Bronx     |3    |Short (<=2mi) |233679|\n",
      "|Bronx     |4    |Long (>5mi)   |115779|\n",
      "|Bronx     |4    |Medium (2-5mi)|139603|\n",
      "|Bronx     |4    |Short (<=2mi) |196729|\n",
      "|Bronx     |5    |Long (>5mi)   |121059|\n",
      "|Bronx     |5    |Medium (2-5mi)|141439|\n",
      "|Bronx     |5    |Short (<=2mi) |197349|\n",
      "|Bronx     |6    |Long (>5mi)   |110142|\n",
      "|Bronx     |6    |Medium (2-5mi)|127093|\n",
      "|Bronx     |6    |Short (<=2mi) |180151|\n",
      "|Bronx     |7    |Long (>5mi)   |106295|\n",
      "|Bronx     |7    |Medium (2-5mi)|114418|\n",
      "|Bronx     |7    |Short (<=2mi) |164394|\n",
      "|Bronx     |8    |Long (>5mi)   |109164|\n",
      "|Bronx     |8    |Medium (2-5mi)|111905|\n",
      "|Bronx     |8    |Short (<=2mi) |156788|\n",
      "|Bronx     |9    |Long (>5mi)   |107141|\n",
      "|Bronx     |9    |Medium (2-5mi)|110858|\n",
      "|Bronx     |9    |Short (<=2mi) |150775|\n",
      "|Bronx     |10   |Long (>5mi)   |114741|\n",
      "|Bronx     |10   |Medium (2-5mi)|114526|\n",
      "|Bronx     |10   |Short (<=2mi) |154254|\n",
      "+----------+-----+--------------+------+\n",
      "only showing top 30 rows\n",
      "\n",
      "✓ Guardado: /home/jovyan/work/evidencias/n_trip_length_distribution.csv\n"
     ]
    }
   ],
   "source": [
    "sql_n = \"\"\"\n",
    "SELECT \n",
    "    pu_borough,\n",
    "    month,\n",
    "    CASE \n",
    "        WHEN trip_distance <= 2 THEN 'Short (<=2mi)'\n",
    "        WHEN trip_distance <= 5 THEN 'Medium (2-5mi)'\n",
    "        ELSE 'Long (>5mi)'\n",
    "    END AS trip_category,\n",
    "    COUNT(*) AS trips\n",
    "FROM SPARK_DATA.ANALYTICS.OBT_TRIPS\n",
    "WHERE pu_borough != 'Unknown'\n",
    "GROUP BY pu_borough, month, trip_category\n",
    "ORDER BY pu_borough, month, trip_category\n",
    "LIMIT 300\n",
    "\"\"\"\n",
    "\n",
    "df_n = query_snowflake(sql_n, \"Proporción viajes cortos vs largos\")\n",
    "save_and_show(df_n, \"n_trip_length_distribution.csv\", \"Trip length\", 30)"
   ]
  },
  {
   "cell_type": "markdown",
   "id": "q15",
   "metadata": {},
   "source": [
    "### o) Diferencias por vendor en avg_speed_mph y trip_duration_min"
   ]
  },
  {
   "cell_type": "code",
   "execution_count": 32,
   "id": "answer_o",
   "metadata": {},
   "outputs": [
    {
     "name": "stdout",
     "output_type": "stream",
     "text": [
      "\n",
      "============================================================\n",
      "Pregunta: Diferencias por vendor\n",
      "============================================================\n",
      "+----------------------------+---------+---------+------------+------------+\n",
      "|VENDOR_NAME                 |TRIPS    |AVG_SPEED|AVG_DURATION|AVG_DISTANCE|\n",
      "+----------------------------+---------+---------+------------+------------+\n",
      "|VeriFone Inc.               |496742523|16.55    |21.53       |4.34        |\n",
      "|Creative Mobile Technologies|311658990|42.66    |16.98       |8.01        |\n",
      "|NULL                        |881594   |10.6     |21.39       |3.83        |\n",
      "+----------------------------+---------+---------+------------+------------+\n",
      "\n",
      "✓ Guardado: /home/jovyan/work/evidencias/o_vendor_performance.csv\n"
     ]
    }
   ],
   "source": [
    "sql_o = \"\"\"\n",
    "SELECT \n",
    "    vendor_name,\n",
    "    COUNT(*) AS trips,\n",
    "    ROUND(AVG(avg_speed_mph), 2) AS avg_speed,\n",
    "    ROUND(AVG(trip_duration_min), 2) AS avg_duration,\n",
    "    ROUND(AVG(trip_distance), 2) AS avg_distance\n",
    "FROM SPARK_DATA.ANALYTICS.OBT_TRIPS\n",
    "WHERE avg_speed_mph IS NOT NULL AND avg_speed_mph > 0\n",
    "GROUP BY vendor_name\n",
    "ORDER BY trips DESC\n",
    "\"\"\"\n",
    "\n",
    "df_o = query_snowflake(sql_o, \"Diferencias por vendor\")\n",
    "save_and_show(df_o, \"o_vendor_performance.csv\", \"Vendor performance\", 10)"
   ]
  },
  {
   "cell_type": "markdown",
   "id": "q16",
   "metadata": {},
   "source": [
    "### p) Relación método de pago ↔ tip_amount por hora"
   ]
  },
  {
   "cell_type": "code",
   "execution_count": 33,
   "id": "answer_p",
   "metadata": {},
   "outputs": [
    {
     "name": "stdout",
     "output_type": "stream",
     "text": [
      "\n",
      "============================================================\n",
      "Pregunta: Método de pago y propina por hora\n",
      "============================================================\n",
      "+-----------+-----------------+--------+-------+-----------+\n",
      "|PICKUP_HOUR|PAYMENT_TYPE_DESC|TRIPS   |AVG_TIP|AVG_TIP_PCT|\n",
      "+-----------+-----------------+--------+-------+-----------+\n",
      "|0          |Credit Card      |18310150|2.98   |0.15       |\n",
      "|0          |Cash             |8125794 |0.0    |0.0        |\n",
      "|0          |Unknown          |344766  |1.36   |0.05       |\n",
      "|0          |No Charge        |147116  |0.01   |0.0        |\n",
      "|0          |Dispute          |87972   |0.03   |0.0        |\n",
      "|0          |NULL             |11856   |1.64   |0.06       |\n",
      "|1          |Credit Card      |12957228|2.77   |0.15       |\n",
      "|1          |Cash             |5971306 |0.0    |0.0        |\n",
      "|1          |Unknown          |222922  |1.34   |0.05       |\n",
      "|1          |No Charge        |120965  |0.0    |0.0        |\n",
      "|1          |Dispute          |69039   |0.04   |0.0        |\n",
      "|1          |NULL             |7261    |1.56   |0.06       |\n",
      "|2          |Credit Card      |9122892 |2.63   |0.15       |\n",
      "|2          |Cash             |4408019 |0.0    |0.0        |\n",
      "|2          |Unknown          |154073  |1.43   |0.05       |\n",
      "|2          |No Charge        |100488  |0.01   |0.0        |\n",
      "|2          |Dispute          |54252   |0.05   |0.0        |\n",
      "|2          |NULL             |5309    |1.58   |0.06       |\n",
      "|3          |Credit Card      |6282005 |2.69   |0.14       |\n",
      "|3          |Cash             |3441283 |0.0    |0.0        |\n",
      "|3          |Unknown          |124113  |1.67   |0.05       |\n",
      "|3          |No Charge        |88142   |0.01   |0.0        |\n",
      "|3          |Dispute          |45600   |0.07   |0.0        |\n",
      "|3          |NULL             |8289    |1.16   |0.04       |\n",
      "|4          |Credit Card      |4245263 |3.3    |0.14       |\n",
      "|4          |Cash             |3153061 |0.0    |0.0        |\n",
      "|4          |Unknown          |160991  |2.21   |0.05       |\n",
      "|4          |No Charge        |83518   |0.0    |0.0        |\n",
      "|4          |Dispute          |39286   |0.05   |0.0        |\n",
      "|4          |NULL             |21563   |1.02   |0.03       |\n",
      "+-----------+-----------------+--------+-------+-----------+\n",
      "only showing top 30 rows\n",
      "\n",
      "✓ Guardado: /home/jovyan/work/evidencias/p_payment_tip_by_hour.csv\n"
     ]
    }
   ],
   "source": [
    "sql_p = \"\"\"\n",
    "SELECT \n",
    "    pickup_hour,\n",
    "    payment_type_desc,\n",
    "    COUNT(*) AS trips,\n",
    "    ROUND(AVG(tip_amount), 2) AS avg_tip,\n",
    "    ROUND(AVG(tip_pct), 2) AS avg_tip_pct\n",
    "FROM SPARK_DATA.ANALYTICS.OBT_TRIPS\n",
    "GROUP BY pickup_hour, payment_type_desc\n",
    "ORDER BY pickup_hour, trips DESC\n",
    "LIMIT 200\n",
    "\"\"\"\n",
    "\n",
    "df_p = query_snowflake(sql_p, \"Método de pago y propina por hora\")\n",
    "save_and_show(df_p, \"p_payment_tip_by_hour.csv\", \"Payment tip\", 30)"
   ]
  },
  {
   "cell_type": "markdown",
   "id": "q17",
   "metadata": {},
   "source": [
    "### q) Zonas con percentil 99 de duración/distancia fuera de rango"
   ]
  },
  {
   "cell_type": "code",
   "execution_count": 34,
   "id": "answer_q",
   "metadata": {},
   "outputs": [
    {
     "name": "stdout",
     "output_type": "stream",
     "text": [
      "\n",
      "============================================================\n",
      "Pregunta: Zonas con p99 extremo (congestión potencial)\n",
      "============================================================\n",
      "+--------------------------------+------+------------+------------+\n",
      "|PU_ZONE                         |TRIPS |P99_DURATION|P99_DISTANCE|\n",
      "+--------------------------------+------+------------+------------+\n",
      "|Bronx Park                      |32712 |225.56      |21.94       |\n",
      "|Coney Island                    |181244|186.0       |29.96       |\n",
      "|Arden Heights                   |2207  |184.94      |40.18       |\n",
      "|West Brighton                   |1575  |155.94      |39.67       |\n",
      "|Mariners Harbor                 |4988  |150.43      |36.42       |\n",
      "|Hammels/Arverne                 |34314 |136.0       |32.21       |\n",
      "|Far Rockaway                    |28946 |133.0       |31.63       |\n",
      "|Marine Park/Floyd Bennett Field |6128  |132.0       |49.35       |\n",
      "|Heartland Village/Todt Hill     |2398  |130.06      |39.4        |\n",
      "|Saint George/New Brighton       |6213  |124.88      |33.49       |\n",
      "|Charleston/Tottenville          |3842  |122.95      |53.34       |\n",
      "|Rockaway Park                   |8706  |120.0       |31.53       |\n",
      "|Outside of NYC                  |622836|120.0       |32.6        |\n",
      "|Brighton Beach                  |59961 |119.0       |30.07       |\n",
      "|Willets Point                   |12173 |119.0       |32.83       |\n",
      "|Bloomfield/Emerson Hill         |7270  |117.31      |40.52       |\n",
      "|Saint Michaels Cemetery/Woodside|58031 |117.0       |13.79       |\n",
      "|Springfield Gardens South       |75126 |117.0       |43.89       |\n",
      "|Port Richmond                   |1303  |114.98      |35.41       |\n",
      "|Westerleigh                     |1542  |112.77      |46.53       |\n",
      "|Ozone Park                      |24506 |112.0       |22.53       |\n",
      "|Grymes Hill/Clifton             |5266  |109.0       |30.25       |\n",
      "|Baisley Park                    |229393|109.0       |33.29       |\n",
      "|Rosedale                        |29581 |109.0       |28.54       |\n",
      "|Bay Terrace/Fort Totten         |13238 |108.63      |28.7        |\n",
      "|Ocean Parkway South             |26123 |107.0       |21.72       |\n",
      "|Canarsie                        |162193|107.0       |26.83       |\n",
      "|Gravesend                       |39949 |107.0       |28.79       |\n",
      "|Cambria Heights                 |25294 |106.07      |31.4        |\n",
      "|Stapleton                       |4521  |105.0       |34.53       |\n",
      "+--------------------------------+------+------------+------------+\n",
      "\n",
      "✓ Guardado: /home/jovyan/work/evidencias/q_zones_extreme_p99.csv\n"
     ]
    }
   ],
   "source": [
    "sql_q = \"\"\"\n",
    "SELECT \n",
    "    pu_zone,\n",
    "    COUNT(*) AS trips,\n",
    "    ROUND(PERCENTILE_CONT(0.99) WITHIN GROUP (ORDER BY trip_duration_min), 2) AS p99_duration,\n",
    "    ROUND(PERCENTILE_CONT(0.99) WITHIN GROUP (ORDER BY trip_distance), 2) AS p99_distance\n",
    "FROM SPARK_DATA.ANALYTICS.OBT_TRIPS\n",
    "WHERE pu_zone != 'Unknown'\n",
    "GROUP BY pu_zone\n",
    "HAVING COUNT(*) >= 1000\n",
    "ORDER BY p99_duration DESC\n",
    "LIMIT 30\n",
    "\"\"\"\n",
    "\n",
    "df_q = query_snowflake(sql_q, \"Zonas con p99 extremo (congestión potencial)\")\n",
    "save_and_show(df_q, \"q_zones_extreme_p99.csv\", \"Extreme p99\", 30)"
   ]
  },
  {
   "cell_type": "markdown",
   "id": "q18",
   "metadata": {},
   "source": [
    "### r) Yield por milla (total_amount/trip_distance) por borough y hora"
   ]
  },
  {
   "cell_type": "code",
   "execution_count": 35,
   "id": "answer_r",
   "metadata": {},
   "outputs": [
    {
     "name": "stdout",
     "output_type": "stream",
     "text": [
      "\n",
      "============================================================\n",
      "Pregunta: Yield por milla por borough y hora\n",
      "============================================================\n",
      "+-------------+-----------+-----+--------------+----------+------------+\n",
      "|PU_BOROUGH   |PICKUP_HOUR|TRIPS|YIELD_PER_MILE|AVG_AMOUNT|AVG_DISTANCE|\n",
      "+-------------+-----------+-----+--------------+----------+------------+\n",
      "|EWR          |17         |1732 |1685.93       |89.2      |5.4         |\n",
      "|EWR          |6          |1068 |1648.13       |82.25     |4.43        |\n",
      "|EWR          |18         |1415 |1558.96       |89.59     |5.36        |\n",
      "|EWR          |15         |2139 |1544.56       |85.12     |5.37        |\n",
      "|EWR          |14         |1865 |1536.76       |88.29     |5.16        |\n",
      "|EWR          |16         |2112 |1515.85       |89.7      |5.21        |\n",
      "|EWR          |9          |741  |1438.86       |87.18     |6.94        |\n",
      "|EWR          |7          |898  |1414.84       |86.61     |6.2         |\n",
      "|EWR          |19         |1070 |1410.54       |86.33     |5.94        |\n",
      "|EWR          |8          |728  |1401.85       |83.28     |5.45        |\n",
      "|EWR          |5          |836  |1349.74       |79.22     |5.11        |\n",
      "|EWR          |4          |478  |1330.39       |78.59     |4.67        |\n",
      "|EWR          |13         |1353 |1326.75       |85.78     |5.76        |\n",
      "|EWR          |12         |1119 |1306.38       |91.41     |6.07        |\n",
      "|EWR          |11         |870  |1221.07       |87.88     |6.4         |\n",
      "|EWR          |20         |579  |1146.65       |88.76     |6.98        |\n",
      "|EWR          |10         |703  |1138.01       |87.65     |7.17        |\n",
      "|EWR          |3          |173  |806.29        |71.16     |5.4         |\n",
      "|EWR          |22         |189  |767.4         |93.39     |10.09       |\n",
      "|EWR          |23         |142  |733.7         |94.76     |9.79        |\n",
      "|EWR          |21         |272  |648.12        |77.07     |9.38        |\n",
      "|EWR          |2          |84   |636.05        |74.15     |6.81        |\n",
      "|EWR          |1          |66   |604.71        |89.57     |9.69        |\n",
      "|EWR          |0          |101  |603.31        |91.8      |12.97       |\n",
      "|Staten Island|3          |667  |91.85         |42.92     |10.33       |\n",
      "|Staten Island|23         |1070 |78.07         |46.73     |149.75      |\n",
      "|Staten Island|22         |1249 |76.42         |54.67     |25.36       |\n",
      "|Staten Island|4          |856  |70.76         |51.09     |13.04       |\n",
      "|Staten Island|1          |925  |68.96         |46.63     |11.09       |\n",
      "|Staten Island|2          |712  |67.13         |40.4      |9.6         |\n",
      "+-------------+-----------+-----+--------------+----------+------------+\n",
      "only showing top 30 rows\n",
      "\n",
      "✓ Guardado: /home/jovyan/work/evidencias/r_yield_per_mile.csv\n"
     ]
    }
   ],
   "source": [
    "sql_r = \"\"\"\n",
    "SELECT \n",
    "    pu_borough,\n",
    "    pickup_hour,\n",
    "    COUNT(*) AS trips,\n",
    "    ROUND(AVG(total_amount / NULLIF(trip_distance, 0)), 2) AS yield_per_mile,\n",
    "    ROUND(AVG(total_amount), 2) AS avg_amount,\n",
    "    ROUND(AVG(trip_distance), 2) AS avg_distance\n",
    "FROM SPARK_DATA.ANALYTICS.OBT_TRIPS\n",
    "WHERE pu_borough != 'Unknown'\n",
    "  AND trip_distance > 0\n",
    "GROUP BY pu_borough, pickup_hour\n",
    "ORDER BY yield_per_mile DESC\n",
    "LIMIT 100\n",
    "\"\"\"\n",
    "\n",
    "df_r = query_snowflake(sql_r, \"Yield por milla por borough y hora\")\n",
    "save_and_show(df_r, \"r_yield_per_mile.csv\", \"Yield per mile\", 30)"
   ]
  },
  {
   "cell_type": "markdown",
   "id": "q19",
   "metadata": {},
   "source": [
    "### s) Cambios YoY en volumen y ticket promedio por service_type"
   ]
  },
  {
   "cell_type": "code",
   "execution_count": 36,
   "id": "answer_s",
   "metadata": {},
   "outputs": [
    {
     "name": "stdout",
     "output_type": "stream",
     "text": [
      "\n",
      "============================================================\n",
      "Pregunta: Cambios YoY en volumen y ticket\n",
      "============================================================\n",
      "+----+------------+---------+----------+---------------+----------------+--------------+--------------+\n",
      "|YEAR|SERVICE_TYPE|TRIPS    |AVG_TICKET|PREV_YEAR_TRIPS|PREV_YEAR_TICKET|YOY_TRIPS_PCT |YOY_TICKET_PCT|\n",
      "+----+------------+---------+----------+---------------+----------------+--------------+--------------+\n",
      "|2002|yellow      |483      |25.5      |27             |23.42           |1688.89       |8.88          |\n",
      "|2003|yellow      |50       |25.15     |483            |25.5            |-89.65        |-1.37         |\n",
      "|2004|yellow      |1        |12.3      |50             |25.15           |-98.00        |-51.09        |\n",
      "|2008|yellow      |764      |23.28     |1              |12.3            |76300.00      |89.27         |\n",
      "|2009|green       |312      |16.36     |113            |13.43           |176.11        |21.82         |\n",
      "|2009|yellow      |1290     |19.74     |764            |23.28           |68.85         |-15.21        |\n",
      "|2010|green       |347      |17.98     |312            |16.36           |11.22         |9.9           |\n",
      "|2010|yellow      |1        |18.36     |1290           |19.74           |-99.92        |-6.99         |\n",
      "|2011|yellow      |4        |13.89     |1              |18.36           |300.00        |-24.35        |\n",
      "|2012|green       |3        |9.79      |347            |17.98           |-99.14        |-45.55        |\n",
      "|2012|yellow      |1        |0.0       |4              |13.89           |-75.00        |-100.0        |\n",
      "|2014|yellow      |1        |52.38     |1              |0.0             |0.00          |NULL          |\n",
      "|2015|green       |19202633 |14.85     |3              |9.79            |640087666.67  |51.69         |\n",
      "|2015|yellow      |145983477|16.1      |1              |52.38           |14598347600.00|-69.26        |\n",
      "|2016|green       |16352423 |14.65     |19202633       |14.85           |-14.84        |-1.35         |\n",
      "|2016|yellow      |131073567|16.38     |145983477      |16.1            |-10.21        |1.74          |\n",
      "|2017|green       |11710202 |14.26     |16352423       |14.65           |-28.39        |-2.66         |\n",
      "|2017|yellow      |113442804|16.35     |131073567      |16.38           |-13.45        |-0.18         |\n",
      "|2018|green       |8876163  |16.12     |11710202       |14.26           |-24.20        |13.04         |\n",
      "|2018|yellow      |102795891|16.43     |113442804      |16.35           |-9.39         |0.49          |\n",
      "|2019|green       |6258480  |18.32     |8876163        |16.12           |-29.49        |13.65         |\n",
      "|2019|yellow      |84403340 |19.19     |102795891      |16.43           |-17.89        |16.8          |\n",
      "|2020|green       |1697915  |20.02     |6258480        |18.32           |-72.87        |9.28          |\n",
      "|2020|yellow      |24472892 |18.42     |84403340       |19.19           |-71.00        |-4.01         |\n",
      "|2021|green       |1066670  |23.96     |1697915        |20.02           |-37.18        |19.68         |\n",
      "|2021|yellow      |30741386 |19.7      |24472892       |18.42           |25.61         |6.95          |\n",
      "|2022|green       |838866   |19.34     |1066670        |23.96           |-21.36        |-19.28        |\n",
      "|2022|yellow      |39460258 |21.68     |30741386       |19.7            |28.36         |10.05         |\n",
      "|2023|green       |784858   |23.89     |838866         |19.34           |-6.44         |23.53         |\n",
      "|2023|yellow      |37973765 |28.48     |39460258       |21.68           |-3.77         |31.37         |\n",
      "+----+------------+---------+----------+---------------+----------------+--------------+--------------+\n",
      "only showing top 30 rows\n",
      "\n",
      "✓ Guardado: /home/jovyan/work/evidencias/s_yoy_changes.csv\n"
     ]
    }
   ],
   "source": [
    "sql_s = \"\"\"\n",
    "WITH yearly_stats AS (\n",
    "    SELECT \n",
    "        year,\n",
    "        service_type,\n",
    "        COUNT(*) AS trips,\n",
    "        ROUND(AVG(total_amount), 2) AS avg_ticket\n",
    "    FROM SPARK_DATA.ANALYTICS.OBT_TRIPS\n",
    "    GROUP BY year, service_type\n",
    "),\n",
    "yoy_changes AS (\n",
    "    SELECT \n",
    "        year,\n",
    "        service_type,\n",
    "        trips,\n",
    "        avg_ticket,\n",
    "        LAG(trips) OVER (PARTITION BY service_type ORDER BY year) AS prev_year_trips,\n",
    "        LAG(avg_ticket) OVER (PARTITION BY service_type ORDER BY year) AS prev_year_ticket\n",
    "    FROM yearly_stats\n",
    ")\n",
    "SELECT \n",
    "    year,\n",
    "    service_type,\n",
    "    trips,\n",
    "    avg_ticket,\n",
    "    prev_year_trips,\n",
    "    prev_year_ticket,\n",
    "    ROUND(100.0 * (trips - prev_year_trips) / NULLIF(prev_year_trips, 0), 2) AS yoy_trips_pct,\n",
    "    ROUND(100.0 * (avg_ticket - prev_year_ticket) / NULLIF(prev_year_ticket, 0), 2) AS yoy_ticket_pct\n",
    "FROM yoy_changes\n",
    "WHERE prev_year_trips IS NOT NULL\n",
    "ORDER BY year, service_type\n",
    "\"\"\"\n",
    "\n",
    "df_s = query_snowflake(sql_s, \"Cambios YoY en volumen y ticket\")\n",
    "save_and_show(df_s, \"s_yoy_changes.csv\", \"YoY changes\", 30)"
   ]
  },
  {
   "cell_type": "markdown",
   "id": "q20",
   "metadata": {},
   "source": [
    "### t) Días con alta congestion_surcharge: efecto en total_amount vs días normales"
   ]
  },
  {
   "cell_type": "code",
   "execution_count": 37,
   "id": "answer_t",
   "metadata": {},
   "outputs": [
    {
     "name": "stdout",
     "output_type": "stream",
     "text": [
      "\n",
      "============================================================\n",
      "Pregunta: Efecto de alta congestión vs días normales\n",
      "============================================================\n",
      "+---------------+----+---------------------+----------------+-----------------+\n",
      "|DAY_TYPE       |DAYS|AVG_CONGESTION_CHARGE|AVG_TOTAL_AMOUNT|AVG_TRIPS_PER_DAY|\n",
      "+---------------+----+---------------------+----------------+-----------------+\n",
      "|High Congestion|2080|2.22                 |22.89           |124797           |\n",
      "|Normal         |1648|1.33                 |16.27           |339100           |\n",
      "+---------------+----+---------------------+----------------+-----------------+\n",
      "\n",
      "✓ Guardado: /home/jovyan/work/evidencias/t_congestion_effect.csv\n"
     ]
    }
   ],
   "source": [
    "sql_t = \"\"\"\n",
    "WITH daily_congestion AS (\n",
    "    SELECT \n",
    "        pickup_date,\n",
    "        AVG(congestion_surcharge) AS avg_congestion,\n",
    "        AVG(total_amount) AS avg_total,\n",
    "        COUNT(*) AS trips\n",
    "    FROM SPARK_DATA.ANALYTICS.OBT_TRIPS\n",
    "    WHERE pickup_date IS NOT NULL\n",
    "    GROUP BY pickup_date\n",
    "),\n",
    "classified AS (\n",
    "    SELECT \n",
    "        CASE \n",
    "            WHEN avg_congestion > 2 THEN 'High Congestion'\n",
    "            ELSE 'Normal'\n",
    "        END AS day_type,\n",
    "        avg_congestion,\n",
    "        avg_total,\n",
    "        trips\n",
    "    FROM daily_congestion\n",
    ")\n",
    "SELECT \n",
    "    day_type,\n",
    "    COUNT(*) AS days,\n",
    "    ROUND(AVG(avg_congestion), 2) AS avg_congestion_charge,\n",
    "    ROUND(AVG(avg_total), 2) AS avg_total_amount,\n",
    "    ROUND(AVG(trips), 0) AS avg_trips_per_day\n",
    "FROM classified\n",
    "GROUP BY day_type\n",
    "ORDER BY day_type\n",
    "\"\"\"\n",
    "\n",
    "df_t = query_snowflake(sql_t, \"Efecto de alta congestión vs días normales\")\n",
    "save_and_show(df_t, \"t_congestion_effect.csv\", \"Congestion effect\", 10)"
   ]
  },
  {
   "cell_type": "markdown",
   "id": "section_summary",
   "metadata": {},
   "source": [
    "## Resumen de Ejecución"
   ]
  },
  {
   "cell_type": "code",
   "execution_count": 42,
   "id": "final_summary",
   "metadata": {},
   "outputs": [
    {
     "name": "stdout",
     "output_type": "stream",
     "text": [
      "\n",
      "RUN_ID: 20251020_011122\n",
      "\n",
      " Total de análisis generados: 20\n",
      "\n",
      " Evidencias generadas en: /home/jovyan/work/evidencias\n"
     ]
    }
   ],
   "source": [
    "import os\n",
    "\n",
    "# Listar todos los CSVs generados\n",
    "csv_files = sorted([f for f in os.listdir(EVID_DIR) if f.endswith('.csv')])\n",
    "\n",
    "print(f\"\\nRUN_ID: {RUN_ID}\")\n",
    "print(f\"\\n Total de análisis generados: {len([f for f in csv_files if f.startswith(('a_','b_','c_','d_','e_','f_','g_','h_','i_','j_','k_','l_','m_','n_','o_','p_','q_','r_','s_','t_'))])}\")\n",
    "print(f\"\\n Evidencias generadas en: {EVID_DIR}\")"
   ]
  },
  {
   "cell_type": "code",
   "execution_count": null,
   "id": "97979314-0be0-45f4-ae06-8b594b513bfc",
   "metadata": {},
   "outputs": [],
   "source": []
  }
 ],
 "metadata": {
  "kernelspec": {
   "display_name": "Python 3 (ipykernel)",
   "language": "python",
   "name": "python3"
  },
  "language_info": {
   "codemirror_mode": {
    "name": "ipython",
    "version": 3
   },
   "file_extension": ".py",
   "mimetype": "text/x-python",
   "name": "python",
   "nbconvert_exporter": "python",
   "pygments_lexer": "ipython3",
   "version": "3.11.6"
  }
 },
 "nbformat": 4,
 "nbformat_minor": 5
}
